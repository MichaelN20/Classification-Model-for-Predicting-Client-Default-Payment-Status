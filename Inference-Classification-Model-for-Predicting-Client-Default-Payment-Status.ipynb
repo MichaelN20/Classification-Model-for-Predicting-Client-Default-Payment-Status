{
 "cells": [
  {
   "cell_type": "markdown",
   "metadata": {},
   "source": [
    "# **INFERENCE - Classification Model for Predicting Client Default Payment Status**\n",
    "\n",
    "**`Created by:`**\n",
    "\n",
    "Michael Nathaniel"
   ]
  },
  {
   "cell_type": "markdown",
   "metadata": {},
   "source": [
    "---\n",
    "## **11. Model Inference**"
   ]
  },
  {
   "cell_type": "markdown",
   "metadata": {},
   "source": [
    "Model yang sudah dilatih akan dicoba pada data yang bukan termasuk ke dalam train-set ataupun test-set. Data ini harus dalam format yang asli, bukan data yang sudah di-scaled."
   ]
  },
  {
   "cell_type": "markdown",
   "metadata": {},
   "source": [
    "### **11.1. Import Modul**"
   ]
  },
  {
   "cell_type": "code",
   "execution_count": 18,
   "metadata": {},
   "outputs": [],
   "source": [
    "import pandas as pd\n",
    "import pickle"
   ]
  },
  {
   "cell_type": "markdown",
   "metadata": {},
   "source": [
    "### **11.2. Load Model**"
   ]
  },
  {
   "cell_type": "markdown",
   "metadata": {},
   "source": [
    "Pertama-tama, kita akan meload model terlebih dahulu."
   ]
  },
  {
   "cell_type": "code",
   "execution_count": 19,
   "metadata": {},
   "outputs": [],
   "source": [
    "# Memuat Model\n",
    "\n",
    "# Memuat model Linear Regression dari file pickle\n",
    "with open('model_logistic_regression.pkl', 'rb') as file_5:\n",
    "  model_logistic_regression = pickle.load(file_5)"
   ]
  },
  {
   "cell_type": "markdown",
   "metadata": {},
   "source": [
    "### **11.3. Inference**"
   ]
  },
  {
   "cell_type": "markdown",
   "metadata": {},
   "source": [
    "Kita akan membuat data baru yang berisikan informasi yang diperlukan oleh model untuk memprediksi."
   ]
  },
  {
   "cell_type": "code",
   "execution_count": 20,
   "metadata": {},
   "outputs": [
    {
     "data": {
      "text/html": [
       "<div>\n",
       "<style scoped>\n",
       "    .dataframe tbody tr th:only-of-type {\n",
       "        vertical-align: middle;\n",
       "    }\n",
       "\n",
       "    .dataframe tbody tr th {\n",
       "        vertical-align: top;\n",
       "    }\n",
       "\n",
       "    .dataframe thead th {\n",
       "        text-align: right;\n",
       "    }\n",
       "</style>\n",
       "<table border=\"1\" class=\"dataframe\">\n",
       "  <thead>\n",
       "    <tr style=\"text-align: right;\">\n",
       "      <th></th>\n",
       "      <th>limit_balance</th>\n",
       "      <th>sex</th>\n",
       "      <th>education_level</th>\n",
       "      <th>marital_status</th>\n",
       "      <th>age</th>\n",
       "      <th>pay_1</th>\n",
       "      <th>pay_2</th>\n",
       "      <th>pay_3</th>\n",
       "      <th>pay_4</th>\n",
       "      <th>pay_5</th>\n",
       "      <th>...</th>\n",
       "      <th>bill_amt_3</th>\n",
       "      <th>bill_amt_4</th>\n",
       "      <th>bill_amt_5</th>\n",
       "      <th>bill_amt_6</th>\n",
       "      <th>pay_amt_1</th>\n",
       "      <th>pay_amt_2</th>\n",
       "      <th>pay_amt_3</th>\n",
       "      <th>pay_amt_4</th>\n",
       "      <th>pay_amt_5</th>\n",
       "      <th>pay_amt_6</th>\n",
       "    </tr>\n",
       "  </thead>\n",
       "  <tbody>\n",
       "    <tr>\n",
       "      <th>0</th>\n",
       "      <td>120000</td>\n",
       "      <td>2</td>\n",
       "      <td>3</td>\n",
       "      <td>3</td>\n",
       "      <td>27</td>\n",
       "      <td>-1</td>\n",
       "      <td>-1</td>\n",
       "      <td>-1</td>\n",
       "      <td>2</td>\n",
       "      <td>3</td>\n",
       "      <td>...</td>\n",
       "      <td>17000</td>\n",
       "      <td>0</td>\n",
       "      <td>0</td>\n",
       "      <td>50000</td>\n",
       "      <td>12000</td>\n",
       "      <td>5000</td>\n",
       "      <td>0</td>\n",
       "      <td>0</td>\n",
       "      <td>0</td>\n",
       "      <td>45000</td>\n",
       "    </tr>\n",
       "    <tr>\n",
       "      <th>1</th>\n",
       "      <td>75000</td>\n",
       "      <td>2</td>\n",
       "      <td>2</td>\n",
       "      <td>2</td>\n",
       "      <td>29</td>\n",
       "      <td>1</td>\n",
       "      <td>-1</td>\n",
       "      <td>-1</td>\n",
       "      <td>4</td>\n",
       "      <td>2</td>\n",
       "      <td>...</td>\n",
       "      <td>12000</td>\n",
       "      <td>20000</td>\n",
       "      <td>0</td>\n",
       "      <td>70000</td>\n",
       "      <td>25000</td>\n",
       "      <td>3000</td>\n",
       "      <td>7000</td>\n",
       "      <td>0</td>\n",
       "      <td>0</td>\n",
       "      <td>60000</td>\n",
       "    </tr>\n",
       "    <tr>\n",
       "      <th>2</th>\n",
       "      <td>40000</td>\n",
       "      <td>1</td>\n",
       "      <td>4</td>\n",
       "      <td>1</td>\n",
       "      <td>35</td>\n",
       "      <td>3</td>\n",
       "      <td>2</td>\n",
       "      <td>1</td>\n",
       "      <td>1</td>\n",
       "      <td>1</td>\n",
       "      <td>...</td>\n",
       "      <td>40000</td>\n",
       "      <td>0</td>\n",
       "      <td>15000</td>\n",
       "      <td>30000</td>\n",
       "      <td>0</td>\n",
       "      <td>25000</td>\n",
       "      <td>30000</td>\n",
       "      <td>5000</td>\n",
       "      <td>10000</td>\n",
       "      <td>15000</td>\n",
       "    </tr>\n",
       "  </tbody>\n",
       "</table>\n",
       "<p>3 rows × 23 columns</p>\n",
       "</div>"
      ],
      "text/plain": [
       "   limit_balance  sex  education_level  marital_status  age  pay_1  pay_2  \\\n",
       "0         120000    2                3               3   27     -1     -1   \n",
       "1          75000    2                2               2   29      1     -1   \n",
       "2          40000    1                4               1   35      3      2   \n",
       "\n",
       "   pay_3  pay_4  pay_5  ...  bill_amt_3  bill_amt_4  bill_amt_5  bill_amt_6  \\\n",
       "0     -1      2      3  ...       17000           0           0       50000   \n",
       "1     -1      4      2  ...       12000       20000           0       70000   \n",
       "2      1      1      1  ...       40000           0       15000       30000   \n",
       "\n",
       "   pay_amt_1  pay_amt_2  pay_amt_3  pay_amt_4  pay_amt_5  pay_amt_6  \n",
       "0      12000       5000          0          0          0      45000  \n",
       "1      25000       3000       7000          0          0      60000  \n",
       "2          0      25000      30000       5000      10000      15000  \n",
       "\n",
       "[3 rows x 23 columns]"
      ]
     },
     "execution_count": 20,
     "metadata": {},
     "output_type": "execute_result"
    }
   ],
   "source": [
    "# Membuat Data Baru\n",
    "\n",
    "# Membuat data baru dengan informasi jarak, pengali lonjakan, dan nama armada\n",
    "data_inf = {\n",
    "    \"limit_balance\": [120000, 75000, 40000],\n",
    "    \"sex\": [2, 2, 1],\n",
    "    \"education_level\": [3, 2, 4],\n",
    "    \"marital_status\": [3, 2, 1],\n",
    "    \"age\": [27, 29, 35],\n",
    "    \"pay_1\": [-1, 1, 3],\n",
    "    \"pay_2\": [-1, -1, 2],\n",
    "    \"pay_3\": [-1, -1, 1],\n",
    "    \"pay_4\": [2, 4, 1],\n",
    "    \"pay_5\": [3, 2, 1],\n",
    "    \"pay_6\": [1, 2, 1],\n",
    "    \"bill_amt_1\": [20000, 30000, 30000],\n",
    "    \"bill_amt_2\": [5000, 2000, 35000],\n",
    "    \"bill_amt_3\": [17000, 12000, 40000],\n",
    "    \"bill_amt_4\": [0, 20000, 0],\n",
    "    \"bill_amt_5\": [0, 0, 15000],\n",
    "    \"bill_amt_6\": [50000, 70000, 30000],\n",
    "    \"pay_amt_1\": [12000, 25000, 0],\n",
    "    \"pay_amt_2\": [5000, 3000, 25000],\n",
    "    \"pay_amt_3\": [0, 7000, 30000],\n",
    "    \"pay_amt_4\": [0, 0, 5000],\n",
    "    \"pay_amt_5\": [0, 0, 10000],\n",
    "    \"pay_amt_6\": [45000, 60000, 15000]\n",
    "}\n",
    "\n",
    "# Membuat DataFrame dari data baru\n",
    "data_inf = pd.DataFrame(data_inf)\n",
    "\n",
    "# Menampilkan data baru\n",
    "data_inf"
   ]
  },
  {
   "cell_type": "code",
   "execution_count": 21,
   "metadata": {},
   "outputs": [
    {
     "data": {
      "text/plain": [
       "array([0, 1, 1], dtype=int64)"
      ]
     },
     "execution_count": 21,
     "metadata": {},
     "output_type": "execute_result"
    }
   ],
   "source": [
    "# Memprediksi dengan Menggunakan Model Linear Regression\n",
    "\n",
    "# Memprediksi target untuk data baru menggunakan model Linear Regression\n",
    "y_pred_inf = model_logistic_regression.predict(data_inf)\n",
    "\n",
    "# Menampilkan prediksi untuk data baru\n",
    "y_pred_inf"
   ]
  },
  {
   "cell_type": "markdown",
   "metadata": {},
   "source": [
    "### **11.4. Kesimpulan Inference**"
   ]
  },
  {
   "cell_type": "markdown",
   "metadata": {},
   "source": [
    "Dari hasil uji model (inferential), kita peroleh bahwa dari ketiga inputan data kita, orang pertama dapat membayar untuk bulan selanjutnya, sedangkan dua orang lainnya terindikasi default payment untuk bulan selanjutnya (gagal bayar)"
   ]
  }
 ],
 "metadata": {
  "kernelspec": {
   "display_name": "base",
   "language": "python",
   "name": "python3"
  },
  "language_info": {
   "codemirror_mode": {
    "name": "ipython",
    "version": 3
   },
   "file_extension": ".py",
   "mimetype": "text/x-python",
   "name": "python",
   "nbconvert_exporter": "python",
   "pygments_lexer": "ipython3",
   "version": "3.11.4"
  }
 },
 "nbformat": 4,
 "nbformat_minor": 2
}
